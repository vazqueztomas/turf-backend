{
 "cells": [
  {
   "cell_type": "code",
   "execution_count": 21,
   "metadata": {},
   "outputs": [
    {
     "data": {
      "text/plain": [
       "['https://www.palermo.com.ar/assets/upload/app_programa_oficial/file/1212__a6e4f41397df62b45b5037d1f96df65c.pdf',\n",
       " 'https://www.palermo.com.ar/assets/upload/app_programa_oficial/file/1213__a8a1b40c33f74c534184036c48f0fe38.pdf']"
      ]
     },
     "execution_count": 21,
     "metadata": {},
     "output_type": "execute_result"
    }
   ],
   "source": [
    "import requests\n",
    "from bs4 import BeautifulSoup\n",
    "\n",
    "\n",
    "url = \"https://www.palermo.com.ar/es/turf/programa-oficial\"\n",
    "\n",
    "response = requests.get(url)\n",
    "response.raise_for_status()  # Ensure the request was successful\n",
    "\n",
    "# Parse the HTML content\n",
    "soup = BeautifulSoup(response.text, 'html.parser')\n",
    "\n",
    "# Find the PDF link (modify based on your HTML structure)\n",
    "pdf_sources = []\n",
    "for a_tag in soup.find_all('a', href=True):\n",
    "    if 'programa-oficial-reunion' in a_tag['href']:  # Look for links ending with .pdf\n",
    "        pdf_sources.append(a_tag['href'])\n",
    "        \n",
    "pdf_urls = []\n",
    "for source in pdf_sources:\n",
    "    response = requests.get(source)\n",
    "    response.raise_for_status()  # Ensure the request was successful\n",
    "\n",
    "    soup = BeautifulSoup(response.text, 'html.parser')\n",
    "    for a_tag in soup.find_all('a', href=True):\n",
    "        if a_tag['href'].endswith('.pdf') and a_tag.text.strip() == \"Descargar VersiÃ³n PDF\":    # Look for links ending with .pdf\n",
    "            pdf_urls.append(a_tag['href'])\n",
    "\n",
    "pdf_urls"
   ]
  },
  {
   "cell_type": "code",
   "execution_count": null,
   "metadata": {},
   "outputs": [
    {
     "data": {
      "text/plain": [
       "'Viernes, 29 de Noviembre de 2024'"
      ]
     },
     "execution_count": 9,
     "metadata": {},
     "output_type": "execute_result"
    }
   ],
   "source": [
    "from pypdf import PdfReader\n",
    "import re\n",
    "\n",
    "premios = []\n",
    "reader = PdfReader(\"files/1213__a8a1b40c33f74c534184036c48f0fe38.pdf\")\n",
    "\n",
    "pattern = r\"◇\\s*(.+?)\\s*\\.\"\n",
    "match = re.search(pattern, reader.pages[0].extract_text())\n",
    "\n",
    "content = match.group(1)  # Extract the captured group\n",
    "content\n"
   ]
  }
 ],
 "metadata": {
  "kernelspec": {
   "display_name": ".venv",
   "language": "python",
   "name": "python3"
  },
  "language_info": {
   "codemirror_mode": {
    "name": "ipython",
    "version": 3
   },
   "file_extension": ".py",
   "mimetype": "text/x-python",
   "name": "python",
   "nbconvert_exporter": "python",
   "pygments_lexer": "ipython3",
   "version": "3.10.14"
  }
 },
 "nbformat": 4,
 "nbformat_minor": 2
}
